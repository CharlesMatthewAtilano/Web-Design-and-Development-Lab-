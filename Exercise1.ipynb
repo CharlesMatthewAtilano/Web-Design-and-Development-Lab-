{
  "nbformat": 4,
  "nbformat_minor": 0,
  "metadata": {
    "colab": {
      "name": "Exercise1",
      "provenance": [],
      "authorship_tag": "ABX9TyPR+k86deleTG0peemQqA8o",
      "include_colab_link": true
    },
    "kernelspec": {
      "name": "python3",
      "display_name": "Python 3"
    },
    "language_info": {
      "name": "python"
    }
  },
  "cells": [
    {
      "cell_type": "markdown",
      "metadata": {
        "id": "view-in-github",
        "colab_type": "text"
      },
      "source": [
        "<a href=\"https://colab.research.google.com/github/Matchuuuuu/Web-Design-and-Development-Lab-/blob/main/Exercise1.ipynb\" target=\"_parent\"><img src=\"https://colab.research.google.com/assets/colab-badge.svg\" alt=\"Open In Colab\"/></a>"
      ]
    },
    {
      "cell_type": "code",
      "execution_count": 11,
      "metadata": {
        "colab": {
          "base_uri": "https://localhost:8080/"
        },
        "id": "wzni9J3-mXgH",
        "outputId": "924f7b51-4a0b-4619-c6d6-6eabf18ce66c"
      },
      "outputs": [
        {
          "output_type": "stream",
          "name": "stdout",
          "text": [
            "Create a Python program that computes the area of a circle.\n",
            "What is the radius of the circle? 5\n",
            "The area of the circle is 78.5398\n"
          ]
        }
      ],
      "source": [
        "import math\n",
        "print(\"Create a Python program that computes the area of a circle.\")\n",
        "r = float(input(\"What is the radius of the circle? \"))\n",
        "a = math.pi * r * r\n",
        "print(\"The area of the circle is %.4f \" %a)"
      ]
    },
    {
      "cell_type": "code",
      "source": [],
      "metadata": {
        "id": "HiEu3V2VoMwB"
      },
      "execution_count": null,
      "outputs": []
    }
  ]
}